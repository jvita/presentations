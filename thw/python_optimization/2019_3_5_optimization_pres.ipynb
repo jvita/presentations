{
 "cells": [
  {
   "cell_type": "markdown",
   "metadata": {},
   "source": [
    "# Optimizing (Python) code\n",
    "By Josh Vita (jvita2@illinois.edu)\n",
    "\n",
    "Many of us are students developing various scripts or packages (often in Python) either as the core of a thesis project or as a useful tool to help with our research. While it's not a big deal to take a quick coffee break while your code runs for 15 minutes, this presentation is intended to help you avoid awkward conversations with your advisor because you've been waiting 3 days for some results.\n",
    "\n",
    "This presentation will be broken down into 3 main parts:\n",
    "\n",
    "* Things you should always do because they're easy and good practice\n",
    "* Things you will often want to do, especially in scientific applications\n",
    "* Things you only need to do when it's **gotta** go fast"
   ]
  },
  {
   "cell_type": "markdown",
   "metadata": {},
   "source": [
    "# [The Rules of Optimization](http://wiki.c2.com/?RulesOfOptimization)\n",
    "\n",
    "A quote from Michael Jackson (the software developer, not the singer)\n",
    "\n",
    "> 1. The First Rule: **don't**\n",
    "> 2. The Second Rule: **don't _yet_**\n",
    "> 3. The Third Rule: **profile your code first**\n",
    "\n",
    "A (paraphrased) quote from Prof. Kathryn Huff in Nuclear Engineering\n",
    "> Don't optimize at the expense of code interpretability. I'd rather have code that runs twice as slow, but is twice as easy to understand."
   ]
  },
  {
   "cell_type": "markdown",
   "metadata": {},
   "source": [
    "# Things you should always do because they're easy and good practice\n",
    "\n",
    "* Use list/dict/tuple comprehension\n",
    "* Use generators (where appropriate)\n",
    "* Take advantage of standard packages and pre-defined functions when possible"
   ]
  },
  {
   "cell_type": "markdown",
   "metadata": {},
   "source": [
    "## List comprehension and map()\n",
    "\n",
    "**Each of these has it's own purpose, but in general you can remember that:**\n",
    "* List comprehensions should be your go-to in most cases due to speed and readability\n",
    "* `map()` is particularly handy if your function is already defined or you need to avoid memory issues\n",
    "* For loops are perfectly fine, especially if you're not trying to build a list out of the results\n",
    "\n",
    "For more details about comparing list comprehension, loops, and `map()`, see [this stackoverflow post]( https://stackoverflow.com/questions/1247486/list-comprehension-vs-map); the top 2 answers are particularly insightful"
   ]
  },
  {
   "cell_type": "code",
   "execution_count": 1,
   "metadata": {},
   "outputs": [
    {
     "name": "stdout",
     "output_type": "stream",
     "text": [
      "924 ns ± 4.11 ns per loop (mean ± std. dev. of 7 runs, 1000000 loops each)\n"
     ]
    }
   ],
   "source": [
    "%%timeit\n",
    "\n",
    "# In this case, the function is already defined\n",
    "xs = range(10)\n",
    "lst = [hex(x) for x in xs]"
   ]
  },
  {
   "cell_type": "code",
   "execution_count": 2,
   "metadata": {},
   "outputs": [
    {
     "name": "stdout",
     "output_type": "stream",
     "text": [
      "776 ns ± 4.66 ns per loop (mean ± std. dev. of 7 runs, 1000000 loops each)\n"
     ]
    }
   ],
   "source": [
    "%%timeit\n",
    "\n",
    "# map() can be slightly better in this case\n",
    "xs = range(10)\n",
    "lst = list(map(hex, xs))"
   ]
  },
  {
   "cell_type": "code",
   "execution_count": 3,
   "metadata": {},
   "outputs": [
    {
     "name": "stdout",
     "output_type": "stream",
     "text": [
      "565 ns ± 4.01 ns per loop (mean ± std. dev. of 7 runs, 1000000 loops each)\n"
     ]
    }
   ],
   "source": [
    "%%timeit\n",
    "\n",
    "# This time, we don't have a pre-defined function\n",
    "xs = range(10)\n",
    "lst = [x + 2 for x in xs]"
   ]
  },
  {
   "cell_type": "code",
   "execution_count": 6,
   "metadata": {},
   "outputs": [
    {
     "name": "stdout",
     "output_type": "stream",
     "text": [
      "941 ns ± 8.6 ns per loop (mean ± std. dev. of 7 runs, 1000000 loops each)\n"
     ]
    }
   ],
   "source": [
    "%%timeit\n",
    "\n",
    "# map() incurs an extra overhead due to repeatedly calling the lambda\n",
    "xs = range(10)\n",
    "lst = list(map(lambda x: x + 2, xs))"
   ]
  },
  {
   "cell_type": "markdown",
   "metadata": {},
   "source": [
    "## Use generators (when appropriate)\n",
    "Generators can be thought of as a way of generalizing the benefits mentioned for `map()`\n",
    "\n",
    "**In particular, generators can be good because they:**\n",
    "* Avoid loading large lists into memory (see [this portion of a Youtube video](https://www.youtube.com/watch?v=OSGv2VnC0go&t=8m17s) where one of the core Python developers discusses the importance of keeping calculations in L1 cache)\n",
    "* Can serve as simple, efficient, and readable replacements for iterators"
   ]
  },
  {
   "cell_type": "code",
   "execution_count": 8,
   "metadata": {},
   "outputs": [],
   "source": [
    "# This code would create a disastrously large list ...\n",
    "\n",
    "# lst = [x**x for x in range(10*100)] "
   ]
  },
  {
   "cell_type": "code",
   "execution_count": 8,
   "metadata": {},
   "outputs": [
    {
     "data": {
      "text/plain": [
       "<generator object <genexpr> at 0x7fc134afe820>"
      ]
     },
     "execution_count": 8,
     "metadata": {},
     "output_type": "execute_result"
    }
   ],
   "source": [
    "# ... but THIS code is perfectly happy!\n",
    "\n",
    "(x**x for x in range(10*100)) # changing [] to () makes it a 'generator expression'"
   ]
  },
  {
   "cell_type": "code",
   "execution_count": 10,
   "metadata": {},
   "outputs": [],
   "source": [
    "# Here's an example of an iterator for creating a sequence of powers of two\n",
    "\n",
    "class PowTwo:\n",
    "    # code from blog post: https://www.programiz.com/python-programming/generator\n",
    "    \n",
    "    def __init__(self, max_val=0):\n",
    "        self.max = max_val\n",
    "\n",
    "    def __iter__(self):\n",
    "        self.n = 0\n",
    "        return self\n",
    "\n",
    "    def __next__(self):\n",
    "        if self.n > self.max:\n",
    "            raise StopIteration\n",
    "\n",
    "        result = 2 ** self.n\n",
    "        self.n += 1\n",
    "        return result"
   ]
  },
  {
   "cell_type": "code",
   "execution_count": 12,
   "metadata": {},
   "outputs": [
    {
     "name": "stdout",
     "output_type": "stream",
     "text": [
      "[1, 2, 4, 8, 16, 32, 64, 128, 256, 512, 1024]\n"
     ]
    }
   ],
   "source": [
    "pow_two = PowTwo(10)\n",
    "print([_ for _ in pow_two])"
   ]
  },
  {
   "cell_type": "code",
   "execution_count": 17,
   "metadata": {},
   "outputs": [],
   "source": [
    "# A generator is much simpler -- it's a function with 'yield' instead of 'return'!\n",
    "\n",
    "def PowTwoGen(max_val=0):\n",
    "    n = 0\n",
    "    while n <= max_val:\n",
    "        yield 2 ** n\n",
    "        n += 1"
   ]
  },
  {
   "cell_type": "code",
   "execution_count": 18,
   "metadata": {},
   "outputs": [
    {
     "data": {
      "text/plain": [
       "[1, 2, 4, 8, 16, 32, 64, 128, 256, 512, 1024]"
      ]
     },
     "execution_count": 18,
     "metadata": {},
     "output_type": "execute_result"
    }
   ],
   "source": [
    "pow_two = PowTwoGen(10)\n",
    "[_ for _ in pow_two]"
   ]
  },
  {
   "cell_type": "code",
   "execution_count": 19,
   "metadata": {},
   "outputs": [],
   "source": [
    "# The same blog post also has a cool example of pipelining using generators\n",
    "\n",
    "def pipeline():\n",
    "    \n",
    "    # Open a file containing sale logs\n",
    "    with open('sells.log') as file:\n",
    "        \n",
    "        # Extract a column from the file\n",
    "        pizza_col = (line[3] for line in file)\n",
    "        \n",
    "        # Convert strings to integers\n",
    "        per_hour = (int(x) for x in pizza_col if x != 'N/A')\n",
    "        \n",
    "        print(\"Total pizzas sold = \", sum(per_hour))"
   ]
  },
  {
   "cell_type": "markdown",
   "metadata": {},
   "source": [
    "## Take advantage of standard libraries\n",
    "\n",
    "Beyond built-in functions, many standard libraries provide fast, efficient functions for some common operations. Not only will these save you in terms of development time (arguably more important than runtime), but they'll probably perform better than _I_ could write.\n",
    "\n",
    "**Here are some handy (non-numerical) libraries that I use frequently:**\n",
    "* [itertools](https://docs.python.org/3/library/itertools.html) -- great for permutations/combinations, and anything involving looping over things\n",
    "* [glob](https://docs.python.org/3/library/glob.html) -- for accessing files\n",
    "* [random](https://docs.python.org/3/library/random.html) -- for all things related to random numbers\n",
    "\n",
    "For a comprehensive list, check out [the collection of standard libraries](https://docs.python.org/3/library/) that come with Python 3"
   ]
  },
  {
   "cell_type": "code",
   "execution_count": 7,
   "metadata": {},
   "outputs": [
    {
     "data": {
      "text/plain": [
       "['ABC', 'ACB', 'BAC', 'BCA', 'CAB', 'CBA']"
      ]
     },
     "execution_count": 7,
     "metadata": {},
     "output_type": "execute_result"
    }
   ],
   "source": [
    "# getting permutations of items in a list -- stuff like this is what makes Python so fun\n",
    "import itertools\n",
    "\n",
    "list_of_chars = ['A', 'B', 'C']\n",
    "\n",
    "# cool, he used generators, list comprehension, built-in functions [str().join()], AND standard libraries all in one example!\n",
    "\n",
    "[\"\".join(p) for p in itertools.permutations(list_of_chars)]"
   ]
  },
  {
   "cell_type": "code",
   "execution_count": 21,
   "metadata": {},
   "outputs": [
    {
     "name": "stdout",
     "output_type": "stream",
     "text": [
      "['./glob_folder/file1_input.dat', './glob_folder/file1_output.dat', './glob_folder/file2_input.dat', './glob_folder/file2_output.dat', './glob_folder/file3_input.dat', './glob_folder/file3_output.dat', './glob_folder/README.txt']\n",
      "--------------------------------------------------------------------------------\n",
      "['./glob_folder/file1_input.dat', './glob_folder/file2_input.dat', './glob_folder/file3_input.dat']\n",
      "--------------------------------------------------------------------------------\n",
      "['./glob_folder/file1_input.dat', './glob_folder/file1_output.dat']\n"
     ]
    }
   ],
   "source": [
    "# extracting all file names with a given pattern\n",
    "import glob\n",
    "\n",
    "print(glob.glob('./glob_folder/*'))\n",
    "print('-'*80)\n",
    "print(glob.glob('./glob_folder/file*_input.dat'))\n",
    "print('-'*80)\n",
    "print(glob.glob('./glob_folder/file1_*.dat'))"
   ]
  },
  {
   "cell_type": "code",
   "execution_count": 22,
   "metadata": {},
   "outputs": [
    {
     "data": {
      "text/plain": [
       "[74, 17, 98, 25, 87, 1, 11, 23, 35, 64]"
      ]
     },
     "execution_count": 22,
     "metadata": {},
     "output_type": "execute_result"
    }
   ],
   "source": [
    "# sampling a list in random order\n",
    "import random\n",
    "\n",
    "random.sample(range(100), 10)"
   ]
  },
  {
   "cell_type": "markdown",
   "metadata": {},
   "source": [
    "# Things you'll often want to do, especially in scientific applications\n",
    "* **Vectorize your code** ... unless it's too hard -- if you're working with numbers in an array, NumPy can do pretty much everything\n",
    "* Parallelize your code -- some code is \"embarrassingly parallel\" and just needs some quick imports"
   ]
  },
  {
   "cell_type": "markdown",
   "metadata": {},
   "source": [
    "\"Vectorizing\" code refers to trying to structure your code in such a way that you can perform the same operation on multiple parts of a vector at the same time. For Python, this is often translated to \"stuff your data into an array, then let NumPy go nuts\".\n",
    "\n",
    "**Here are some tips if you're trying to vectorize your code:**\n",
    "* First, profile your code using [some of the common libraries](https://docs.python.org/3/library/profile.html) to make sure it's worth your time -- I can't over-emphasize the importance of this\n",
    "* Learn about NumPy broadcasting and [how to use np.newaxis](https://medium.com/@ian.dzindo01/what-is-numpy-newaxis-and-when-to-use-it-8cb61c7ed6ae)\n",
    "* Check out the NumPy documentation for handy functions -- my favorite is [`np.einsum`](https://docs.scipy.org/doc/numpy-1.14.0/reference/generated/numpy.einsum.html)\n",
    "* Familiarize yourself with NumPy's [Universal Functions](https://jakevdp.github.io/PythonDataScienceHandbook/02.03-computation-on-arrays-ufuncs.html)\n",
    "* N-D matrix operations are a lot slower than 2-D matrix operations"
   ]
  },
  {
   "cell_type": "markdown",
   "metadata": {},
   "source": [
    "Below is an example from [this blog post](https://datafireball.com/2016/07/24/python-profiling-cprofile/) showing the benefits of profiling.\n",
    "\n",
    "**Before trying to optimize, _always_ spend some time making sure it's worth the effort**"
   ]
  },
  {
   "cell_type": "code",
   "execution_count": 13,
   "metadata": {},
   "outputs": [],
   "source": [
    "import numpy as np"
   ]
  },
  {
   "cell_type": "code",
   "execution_count": 14,
   "metadata": {},
   "outputs": [],
   "source": [
    "A = np.arange(210000).reshape((50, 60, 70))\n",
    "sums = np.zeros(60)"
   ]
  },
  {
   "cell_type": "code",
   "execution_count": 15,
   "metadata": {},
   "outputs": [
    {
     "name": "stdout",
     "output_type": "stream",
     "text": [
      "162 ms ± 1.58 ms per loop (mean ± std. dev. of 7 runs, 10 loops each)\n"
     ]
    }
   ],
   "source": [
    "%%timeit\n",
    "\n",
    "# loops can be horribly slow, especially for high-dimensional matrices\n",
    "for j in range(A.shape[1]):\n",
    "    for i in range(A.shape[0]):\n",
    "        for k in range(A.shape[2]):\n",
    "            sums[j] += A[i, j, k]"
   ]
  },
  {
   "cell_type": "code",
   "execution_count": 16,
   "metadata": {},
   "outputs": [
    {
     "name": "stdout",
     "output_type": "stream",
     "text": [
      "312 µs ± 1.37 µs per loop (mean ± std. dev. of 7 runs, 1000 loops each)\n"
     ]
    }
   ],
   "source": [
    "%%timeit\n",
    "\n",
    "# NumPy is way faster since it's calling optimized C libraries\n",
    "sums = np.sum(A, axis=(0, 2))"
   ]
  },
  {
   "cell_type": "markdown",
   "metadata": {},
   "source": [
    "A minor point, but when I first started programming in Python I always used to make the mistake of trying to grow NumPy arrays dynamically. This is noticeably slower and can have a significant impact for large matrices."
   ]
  },
  {
   "cell_type": "code",
   "execution_count": 17,
   "metadata": {},
   "outputs": [
    {
     "name": "stdout",
     "output_type": "stream",
     "text": [
      "393 µs ± 15.2 µs per loop (mean ± std. dev. of 7 runs, 1000 loops each)\n"
     ]
    }
   ],
   "source": [
    "%%timeit\n",
    "\n",
    "# A naive example of building an array where each row is double the previous row\n",
    "A = np.arange(1000).reshape((1, 1000))\n",
    "\n",
    "for i in range(19):\n",
    "    A = np.vstack([A, A[-1]*2])"
   ]
  },
  {
   "cell_type": "code",
   "execution_count": 18,
   "metadata": {},
   "outputs": [
    {
     "name": "stdout",
     "output_type": "stream",
     "text": [
      "113 µs ± 1.22 µs per loop (mean ± std. dev. of 7 runs, 10000 loops each)\n"
     ]
    }
   ],
   "source": [
    "%%timeit\n",
    "\n",
    "# defining the full array ahead of time helps significantly\n",
    "A = np.zeros(20000).reshape((20, 1000))\n",
    "A[0] = np.arange(1000)\n",
    "\n",
    "for i in range(1, 20):\n",
    "    A[i, :] = A[i - 1, :]*2"
   ]
  },
  {
   "cell_type": "markdown",
   "metadata": {},
   "source": [
    "An example of vectorization in my work that groups element-wise multiplication along an axis followed by summation and an axis swap ... all into one call \n",
    "\n",
    "`embedding_forces = np.einsum('pijk,pk->pji', embedding_forces, uprimes)`"
   ]
  },
  {
   "cell_type": "markdown",
   "metadata": {},
   "source": [
    "# Things you only need to do when it's _gotta_ go fast\n",
    "* JIT compilation using [Numba](https://numba.pydata.org/numba-doc/dev/user/5minguide.html)\n",
    "* Write your own libraries in C/C++, then use something like [cython](https://medium.com/@shamir.stav_83310/making-your-c-library-callable-from-python-by-wrapping-it-with-cython-b09db35012a3) to call the library from python\n",
    "\n",
    "\n",
    "[This blog post](https://www.ibm.com/developerworks/community/blogs/jfp/entry/A_Comparison_Of_C_Julia_Python_Numba_Cython_Scipy_and_BLAS_on_LU_Factorization?lang=en) provides some nice statistics looking at Numba performance on LU factorization![Comparing Numba to C for LU factorization](numba_performance.png)"
   ]
  },
  {
   "cell_type": "code",
   "execution_count": 26,
   "metadata": {},
   "outputs": [
    {
     "name": "stdout",
     "output_type": "stream",
     "text": [
      "\n"
     ]
    }
   ],
   "source": [
    "from numba import jit, void, double\n",
    "\n",
    "def numpy_det_by_lu(y, x):\n",
    "    y[0] = 1.\n",
    "\n",
    "    N = x.shape[0]\n",
    "    with np.errstate(invalid='ignore'):\n",
    "        for k in range(N):\n",
    "            y[0] *= x[k,k]\n",
    "            xk = x[k]\n",
    "            for i in range(k+1, N):\n",
    "                xi = x[i]\n",
    "                xi[k] /= xk[k]\n",
    "                xi[k+1:] -= xi[k] * xk[k+1:]\n",
    "                \n",
    "fastdet_by_lu = jit(void(double[:], double[:,:]))(numba_det_by_lu)"
   ]
  },
  {
   "cell_type": "markdown",
   "metadata": {},
   "source": [
    "# Parallelization\n",
    "**Useful packages**\n",
    "* [multiprocessing](https://docs.python.org/3/library/multiprocessing.html) -- python wrapper to OpenMP; use this if you're running on a single computer\n",
    "\n",
    "* [mpi4py](https://mpi4py.readthedocs.io/en/stable/) -- python wrapper to MPI; use this if you're running on a cluster\n",
    "> Unless you're using more than ~1000's of compute nodes, you're probably better off using pure MPI rather than MPI+OpenMP (advice from a Blue Waters support staff member)\n",
    "\n",
    "* [dask](https://dask.org/) -- a fancy package for massively parallel applications; use this when you have complicated computation graphs (or you like pretty graphs)\n",
    "\n",
    "**Additional advice:**\n",
    "\n",
    "Parallel applications are way more complicated, and bugs are orders of magnitude harder to understand. Don't use a new parallel package unless it's very well-documented and has an active community."
   ]
  },
  {
   "cell_type": "markdown",
   "metadata": {},
   "source": [
    "## Multiprocessing"
   ]
  },
  {
   "cell_type": "markdown",
   "metadata": {},
   "source": [
    "For many problems, one of the easiest speedups can come from simply parallelizing your code. In the case of shared-memory problems, the [multiprocessing](https://docs.python.org/2/library/multiprocessing.html) module is a godsend.\n",
    "\n",
    "**The multiprocessing module can be a quick fix when:**\n",
    "* You need to perform the same operations on different chunks of data (SIMD)\n",
    "\n",
    "Multiprocessing can be used in a number of different cases; I won't show an example here, but there are plenty of examples online such as [this one](https://stackoverflow.com/questions/20887555/dead-simple-example-of-using-multiprocessing-queue-pool-and-locking)."
   ]
  },
  {
   "cell_type": "markdown",
   "metadata": {},
   "source": [
    "# Other useful stuff\n",
    "* Time-resolved memory usage using [memory-profiler](https://pypi.org/project/memory-profiler/)\n",
    "* [Some performance metrics](https://stackoverflow.com/questions/3055477/how-slow-is-pythons-string-concatenation-vs-str-join) on why you should use `''.join()` over `+` for string construction"
   ]
  },
  {
   "cell_type": "code",
   "execution_count": null,
   "metadata": {},
   "outputs": [],
   "source": []
  }
 ],
 "metadata": {
  "kernelspec": {
   "display_name": "Python 3",
   "language": "python",
   "name": "python3"
  },
  "language_info": {
   "codemirror_mode": {
    "name": "ipython",
    "version": 3
   },
   "file_extension": ".py",
   "mimetype": "text/x-python",
   "name": "python",
   "nbconvert_exporter": "python",
   "pygments_lexer": "ipython3",
   "version": "3.8.8"
  },
  "toc": {
   "base_numbering": 1,
   "nav_menu": {},
   "number_sections": true,
   "sideBar": true,
   "skip_h1_title": false,
   "title_cell": "Table of Contents",
   "title_sidebar": "Contents",
   "toc_cell": false,
   "toc_position": {
    "height": "calc(100% - 180px)",
    "left": "10px",
    "top": "150px",
    "width": "355px"
   },
   "toc_section_display": true,
   "toc_window_display": true
  }
 },
 "nbformat": 4,
 "nbformat_minor": 2
}
