{
 "cells": [
  {
   "cell_type": "markdown",
   "metadata": {},
   "source": [
    "# UIUC-THW: object-oriented programming\n",
    "Or more generally: how can I design better code?\n",
    "\n",
    "Disclaimer: OOP is an insanely large topic that simply can't be covered in 30 minutes. My goals here are instead to:\n",
    "\n",
    "1. introduce us to some of the core concepts of OOP\n",
    "2. help us to understand when/why OOP should be used"
   ]
  },
  {
   "cell_type": "markdown",
   "metadata": {},
   "source": [
    "## Some key concepts in OOP\n",
    "\n",
    "Canonically, these would be **abstraction, inheritance, encapsulation, and polymorphism**.\n",
    "\n",
    "I'm mostly going to ignore these, and instead talk more generally about "
   ]
  },
  {
   "cell_type": "markdown",
   "metadata": {},
   "source": [
    "**Concept 1:** Each class should have some defining characteristics and behaviors that distinguish it from other classe. (key concept: **abstraction**)"
   ]
  },
  {
   "cell_type": "code",
   "execution_count": 30,
   "metadata": {},
   "outputs": [],
   "source": [
    "class Animal:\n",
    "    def __init__(self):\n",
    "        pass\n",
    "\n",
    "    # while most (all?) animals do these things, each kind might do them differently\n",
    "    def eat(self):\n",
    "        \n",
    "    \n",
    "    def sleep(self):\n",
    "        print(\"Zzz ...\")\n",
    "    \n",
    "    def poop(self):\n",
    "        print(\"-censored-\")"
   ]
  },
  {
   "cell_type": "code",
   "execution_count": null,
   "metadata": {},
   "outputs": [],
   "source": [
    "class Rock:\n",
    "    def __init__(self):\n",
    "        pass\n",
    "    \n",
    "    # typical behavior for a rock is very different from that of an animal\n",
    "    def sit_there_and_do_nothing(self):\n",
    "        pass"
   ]
  },
  {
   "cell_type": "markdown",
   "metadata": {},
   "source": [
    "**Concept 2:** classes allow you to have multiple object types that behave the same fundamentally, but have some unique traits/behaviors! (key concept: **inheritence**)"
   ]
  },
  {
   "cell_type": "code",
   "execution_count": 42,
   "metadata": {},
   "outputs": [],
   "source": [
    "class Bird (Animal):\n",
    "    def __init(self):\n",
    "        pass\n",
    "    \n",
    "    def eat(self):\n",
    "        return \"-nibbles on seeds-\"\n",
    "           \n",
    "    def sleep(self, food):\n",
    "        super(Bird, self).sleep()\n",
    "            \n",
    "    def poop(self, food):\n",
    "        return '-aims for your head-'\n",
    "         "
   ]
  },
  {
   "cell_type": "code",
   "execution_count": 46,
   "metadata": {},
   "outputs": [],
   "source": [
    "import random\n",
    "\n",
    "class Human (Animal):\n",
    "    def __init__(self):\n",
    "        pass\n",
    "    \n",
    "    def sleep(self, food):\n",
    "        super(Bird, self).sleep()\n",
    "               \n",
    "    def cook_food(self):\n",
    "        food_types = [\n",
    "            \"bacon-wrapped hamburgers stuffed inside the crust of mini pizza bagels\",\n",
    "            \"chocolate-covered caramel-covered strawberries dipped in powdered sugar and marinated in Nutella\",\n",
    "            \"anything except Brussels sprouts\",\n",
    "        ]\n",
    "        \n",
    "        return random.choice(food_types)\n",
    "    \n",
    "    def eat(self):\n",
    "        food = self.cook_food()\n",
    "        return \"Yum, I love \" + food + \"!\""
   ]
  },
  {
   "cell_type": "code",
   "execution_count": 47,
   "metadata": {},
   "outputs": [
    {
     "name": "stdout",
     "output_type": "stream",
     "text": [
      "Bird: -nibbles on seeds-\n",
      "Human: Yum, I love anything except Brussels sprouts!\n"
     ]
    }
   ],
   "source": [
    "bird = Bird()\n",
    "human = Human()\n",
    "\n",
    "print(\"Bird:\", bird.eat())\n",
    "print(\"Human:\", human.eat())"
   ]
  },
  {
   "cell_type": "markdown",
   "metadata": {},
   "source": [
    "A more applicable example: widgets in a GUI -- they have fundamental behaviors like `onClick()`, but a button widget isn't quite the same as a slider."
   ]
  },
  {
   "cell_type": "markdown",
   "metadata": {},
   "source": [
    "**Concept 3:** classes can be used as building blocks for creating more complex objects"
   ]
  },
  {
   "cell_type": "code",
   "execution_count": null,
   "metadata": {},
   "outputs": [],
   "source": [
    "class Zoo:\n",
    "    def __init__(self):\n",
    "        self.animals = []\n",
    "    \n",
    "    def add_an_animal(self, animal):\n",
    "        self.animals.append(animal)\n",
    "    \n",
    "    "
   ]
  },
  {
   "cell_type": "code",
   "execution_count": null,
   "metadata": {},
   "outputs": [],
   "source": []
  },
  {
   "cell_type": "markdown",
   "metadata": {},
   "source": [
    "## Important terminology\n",
    "\n",
    "- classes\n",
    "- instances\n",
    "- attributes\n",
    "- inheritence"
   ]
  },
  {
   "cell_type": "markdown",
   "metadata": {},
   "source": [
    "## When I'm reading/writing code, I like when it ...\n",
    "- is easy to understand\n",
    "- is easy to debug\n",
    "- is easy to extend\n",
    "- is easy to be combined with other pieces of code\n",
    "\n",
    "## So we should write our code in whatever way promotes those things!\n",
    "\n",
    "As highlighted in [a nice Stackoverflow post](https://stackoverflow.com/questions/2078978/functional-programming-vs-object-oriented-programming): you should use the programming paradigm that fits your problem best."
   ]
  },
  {
   "cell_type": "markdown",
   "metadata": {},
   "source": [
    "For example, maybe we're designing a zoo:\n",
    "\n",
    "- Zoo   <-- a complex object can composed of many simpler ones\n",
    "    - **Enclosures**\n",
    "        - Forest\n",
    "            - **Animal**   <-- classes can have multiple different instantiations\n",
    "                - Bear\n",
    "                - Deer   <-- realistically, `Bear` and `Deer` would be different sub-classes, but ignore this\n",
    "            - **Plant - Tree**   <-- abstract classes (`Plant`) can have multiple derivatives (`Tree`, `Cacti`)\n",
    "                - Oak\n",
    "            - **Weather**\n",
    "                - Rain\n",
    "        - Desert\n",
    "            - Animal\n",
    "                - Lizard\n",
    "                - Snake\n",
    "            - **Plant - Cacti**\n",
    "                - Saguaro\n",
    "                - Prickly-pear\n",
    "                - Barrel\n",
    "            - Weather\n",
    "                - Fireballs from the sky\n",
    "    - **Staff**\n",
    "        - Caretaker\n",
    "        - Janitor\n",
    "        - Cashier"
   ]
  },
  {
   "cell_type": "markdown",
   "metadata": {},
   "source": [
    "> \"Object-oriented languages are good when you have a fixed set of operations on things, and as your code evolves, you primarily add new things.\"\n",
    "\n",
    "All animals will `eat()`, `sleep()`, and `poop()` -- this set of fundamental behaviors is unlikely to change soon. As our zoo grows, it would be easy to add new enclosures/plants/animals (new objects) -- all we have to do is have them inherit the core features from their base class, then make whatever modifications we want.\n",
    "\n",
    "> \"Adding a new operation to an object-oriented program may require editing many class definitions to add a new method.\"\n",
    "\n",
    "If suddenly we wanted our animals to put on an opera, it could involve writing unique `sing()` and `dance()` for _every single_ animal type."
   ]
  },
  {
   "cell_type": "markdown",
   "metadata": {},
   "source": [
    "**Aside:**\n",
    "\n",
    "> \"Functional languages are good when you have a fixed set of things, and as your code evolves, you primarily add new operations on existing things.\"\n",
    "\n",
    "> \"Adding a new kind of thing to a functional program may require editing many function definitions to add a new case.\"\n",
    "\n",
    "Functional programming is a different programming paradigm that centers around the idea of functions acting on data.\n",
    "\n",
    "For example, perhaps we are doing image processing -- in this case, the workflow could be easily expressed as a chain of operations (like `resize()`, `crop()`, `blur()`) on the images."
   ]
  },
  {
   "cell_type": "markdown",
   "metadata": {},
   "source": [
    "### Discussion\n",
    "\n",
    "Give a brief description of a programming project that you're working on and describe where you have used (or _should_ have used) aspects of OOP (or any other programming paradigm)\n",
    "\n",
    "An example from my work:\n"
   ]
  },
  {
   "cell_type": "code",
   "execution_count": null,
   "metadata": {},
   "outputs": [],
   "source": []
  }
 ],
 "metadata": {
  "kernelspec": {
   "display_name": "Python 3",
   "language": "python",
   "name": "python3"
  },
  "language_info": {
   "codemirror_mode": {
    "name": "ipython",
    "version": 3
   },
   "file_extension": ".py",
   "mimetype": "text/x-python",
   "name": "python",
   "nbconvert_exporter": "python",
   "pygments_lexer": "ipython3",
   "version": "3.6.8"
  }
 },
 "nbformat": 4,
 "nbformat_minor": 2
}
